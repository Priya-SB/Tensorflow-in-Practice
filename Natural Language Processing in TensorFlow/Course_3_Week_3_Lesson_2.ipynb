{
  "nbformat": 4,
  "nbformat_minor": 0,
  "metadata": {
    "accelerator": "GPU",
    "colab": {
      "name": "Course 3 - Week 3 - Lesson 2.ipynb",
      "provenance": [],
      "collapsed_sections": [],
      "include_colab_link": true
    },
    "kernelspec": {
      "display_name": "Python 3",
      "language": "python",
      "name": "python3"
    },
    "language_info": {
      "codemirror_mode": {
        "name": "ipython",
        "version": 3
      },
      "file_extension": ".py",
      "mimetype": "text/x-python",
      "name": "python",
      "nbconvert_exporter": "python",
      "pygments_lexer": "ipython3",
      "version": "3.7.6"
    }
  },
  "cells": [
    {
      "cell_type": "markdown",
      "metadata": {
        "id": "view-in-github",
        "colab_type": "text"
      },
      "source": [
        "<a href=\"https://colab.research.google.com/github/Priya-SB/Tensorflow-in-Practice/blob/master/Natural%20Language%20Processing%20in%20TensorFlow/Course_3_Week_3_Lesson_2.ipynb\" target=\"_parent\"><img src=\"https://colab.research.google.com/assets/colab-badge.svg\" alt=\"Open In Colab\"/></a>"
      ]
    },
    {
      "cell_type": "code",
      "metadata": {
        "colab_type": "code",
        "id": "zX4Kg8DUTKWO",
        "colab": {}
      },
      "source": [
        "#@title Licensed under the Apache License, Version 2.0 (the \"License\");\n",
        "# you may not use this file except in compliance with the License.\n",
        "# You may obtain a copy of the License at\n",
        "#\n",
        "# https://www.apache.org/licenses/LICENSE-2.0\n",
        "#\n",
        "# Unless required by applicable law or agreed to in writing, software\n",
        "# distributed under the License is distributed on an \"AS IS\" BASIS,\n",
        "# WITHOUT WARRANTIES OR CONDITIONS OF ANY KIND, either express or implied.\n",
        "# See the License for the specific language governing permissions and\n",
        "# limitations under the License."
      ],
      "execution_count": 1,
      "outputs": []
    },
    {
      "cell_type": "markdown",
      "metadata": {
        "id": "-zIA8616P63c",
        "colab_type": "text"
      },
      "source": [
        "<a href=\"https://colab.research.google.com/github/lmoroney/dlaicourse/blob/master/TensorFlow%20In%20Practice/Course%203%20-%20NLP/Course%203%20-%20Week%203%20-%20Lesson%202.ipynb\" target=\"_parent\"><img src=\"https://colab.research.google.com/assets/colab-badge.svg\" alt=\"Open In Colab\"/></a>"
      ]
    },
    {
      "cell_type": "code",
      "metadata": {
        "colab_type": "code",
        "id": "jGwXGIXvFhXW",
        "colab": {
          "base_uri": "https://localhost:8080/",
          "height": 1000
        },
        "outputId": "4f710fa7-c0ab-41e6-e157-46e0f752cc4e"
      },
      "source": [
        "import numpy as np\n",
        "\n",
        "import json\n",
        "import tensorflow as tf\n",
        "\n",
        "from tensorflow.keras.preprocessing.text import Tokenizer\n",
        "from tensorflow.keras.preprocessing.sequence import pad_sequences\n",
        "\n",
        "!wget --no-check-certificate \\\n",
        "    https://storage.googleapis.com/laurencemoroney-blog.appspot.com/sarcasm.json \\\n",
        "    -O /tmp/sarcasm.json\n",
        "\n",
        "vocab_size = 1000\n",
        "embedding_dim = 16\n",
        "max_length = 120\n",
        "trunc_type='post'\n",
        "padding_type='post'\n",
        "oov_tok = \"<OOV>\"\n",
        "training_size = 20000\n",
        "\n",
        "\n",
        "with open(\"/tmp/sarcasm.json\", 'r') as f:\n",
        "    datastore = json.load(f)\n",
        "\n",
        "\n",
        "sentences = []\n",
        "labels = []\n",
        "urls = []\n",
        "for item in datastore:\n",
        "    sentences.append(item['headline'])\n",
        "    labels.append(item['is_sarcastic'])\n",
        "\n",
        "training_sentences = sentences[0:training_size]\n",
        "testing_sentences = sentences[training_size:]\n",
        "training_labels = labels[0:training_size]\n",
        "testing_labels = labels[training_size:]\n",
        "\n",
        "tokenizer = Tokenizer(num_words=vocab_size, oov_token=oov_tok)\n",
        "tokenizer.fit_on_texts(training_sentences)\n",
        "\n",
        "word_index = tokenizer.word_index\n",
        "\n",
        "training_sequences = tokenizer.texts_to_sequences(training_sentences)\n",
        "training_padded = pad_sequences(training_sequences, maxlen=max_length, padding=padding_type, truncating=trunc_type)\n",
        "\n",
        "testing_sequences = tokenizer.texts_to_sequences(testing_sentences)\n",
        "testing_padded = pad_sequences(testing_sequences, maxlen=max_length, padding=padding_type, truncating=trunc_type)\n",
        "\n",
        "model = tf.keras.Sequential([\n",
        "    tf.keras.layers.Embedding(vocab_size, embedding_dim, input_length=max_length),\n",
        "    tf.keras.layers.Bidirectional(tf.keras.layers.LSTM(32)),\n",
        "    tf.keras.layers.Dense(24, activation='relu'),\n",
        "    tf.keras.layers.Dense(1, activation='sigmoid')\n",
        "])\n",
        "model.compile(loss='binary_crossentropy',optimizer='adam',metrics=['accuracy'])\n",
        "model.summary()\n",
        "\n",
        "num_epochs = 50\n",
        "training_padded = np.array(training_padded)\n",
        "training_labels = np.array(training_labels)\n",
        "testing_padded = np.array(testing_padded)\n",
        "testing_labels = np.array(testing_labels)\n",
        "history = model.fit(training_padded, training_labels, epochs=num_epochs, validation_data=(testing_padded, testing_labels), verbose=1)\n"
      ],
      "execution_count": 2,
      "outputs": [
        {
          "output_type": "stream",
          "text": [
            "--2020-08-23 13:57:02--  https://storage.googleapis.com/laurencemoroney-blog.appspot.com/sarcasm.json\n",
            "Resolving storage.googleapis.com (storage.googleapis.com)... 108.177.96.128, 108.177.119.128, 108.177.126.128, ...\n",
            "Connecting to storage.googleapis.com (storage.googleapis.com)|108.177.96.128|:443... connected.\n",
            "HTTP request sent, awaiting response... 200 OK\n",
            "Length: 5643545 (5.4M) [application/json]\n",
            "Saving to: ‘/tmp/sarcasm.json’\n",
            "\n",
            "\r/tmp/sarcasm.json     0%[                    ]       0  --.-KB/s               \r/tmp/sarcasm.json   100%[===================>]   5.38M  28.2MB/s    in 0.2s    \n",
            "\n",
            "2020-08-23 13:57:03 (28.2 MB/s) - ‘/tmp/sarcasm.json’ saved [5643545/5643545]\n",
            "\n",
            "Model: \"sequential\"\n",
            "_________________________________________________________________\n",
            "Layer (type)                 Output Shape              Param #   \n",
            "=================================================================\n",
            "embedding (Embedding)        (None, 120, 16)           16000     \n",
            "_________________________________________________________________\n",
            "bidirectional (Bidirectional (None, 64)                12544     \n",
            "_________________________________________________________________\n",
            "dense (Dense)                (None, 24)                1560      \n",
            "_________________________________________________________________\n",
            "dense_1 (Dense)              (None, 1)                 25        \n",
            "=================================================================\n",
            "Total params: 30,129\n",
            "Trainable params: 30,129\n",
            "Non-trainable params: 0\n",
            "_________________________________________________________________\n",
            "Epoch 1/50\n",
            "625/625 [==============================] - 9s 15ms/step - loss: 0.4482 - accuracy: 0.7735 - val_loss: 0.3980 - val_accuracy: 0.8190\n",
            "Epoch 2/50\n",
            "625/625 [==============================] - 9s 14ms/step - loss: 0.3570 - accuracy: 0.8382 - val_loss: 0.3778 - val_accuracy: 0.8290\n",
            "Epoch 3/50\n",
            "625/625 [==============================] - 9s 14ms/step - loss: 0.3298 - accuracy: 0.8504 - val_loss: 0.3690 - val_accuracy: 0.8311\n",
            "Epoch 4/50\n",
            "625/625 [==============================] - 9s 14ms/step - loss: 0.3133 - accuracy: 0.8601 - val_loss: 0.3706 - val_accuracy: 0.8293\n",
            "Epoch 5/50\n",
            "625/625 [==============================] - 9s 14ms/step - loss: 0.3043 - accuracy: 0.8647 - val_loss: 0.3739 - val_accuracy: 0.8296\n",
            "Epoch 6/50\n",
            "625/625 [==============================] - 9s 14ms/step - loss: 0.2939 - accuracy: 0.8691 - val_loss: 0.3738 - val_accuracy: 0.8293\n",
            "Epoch 7/50\n",
            "625/625 [==============================] - 9s 14ms/step - loss: 0.2858 - accuracy: 0.8723 - val_loss: 0.3806 - val_accuracy: 0.8325\n",
            "Epoch 8/50\n",
            "625/625 [==============================] - 9s 14ms/step - loss: 0.2783 - accuracy: 0.8773 - val_loss: 0.3817 - val_accuracy: 0.8281\n",
            "Epoch 9/50\n",
            "625/625 [==============================] - 9s 14ms/step - loss: 0.2703 - accuracy: 0.8812 - val_loss: 0.3906 - val_accuracy: 0.8304\n",
            "Epoch 10/50\n",
            "625/625 [==============================] - 9s 14ms/step - loss: 0.2636 - accuracy: 0.8866 - val_loss: 0.4010 - val_accuracy: 0.8281\n",
            "Epoch 11/50\n",
            "625/625 [==============================] - 9s 14ms/step - loss: 0.2583 - accuracy: 0.8888 - val_loss: 0.4296 - val_accuracy: 0.8258\n",
            "Epoch 12/50\n",
            "625/625 [==============================] - 9s 14ms/step - loss: 0.2500 - accuracy: 0.8924 - val_loss: 0.4410 - val_accuracy: 0.8250\n",
            "Epoch 13/50\n",
            "625/625 [==============================] - 9s 14ms/step - loss: 0.2433 - accuracy: 0.8960 - val_loss: 0.4322 - val_accuracy: 0.8237\n",
            "Epoch 14/50\n",
            "625/625 [==============================] - 9s 14ms/step - loss: 0.2363 - accuracy: 0.8993 - val_loss: 0.4301 - val_accuracy: 0.8190\n",
            "Epoch 15/50\n",
            "625/625 [==============================] - 9s 14ms/step - loss: 0.2268 - accuracy: 0.9042 - val_loss: 0.4627 - val_accuracy: 0.8216\n",
            "Epoch 16/50\n",
            "625/625 [==============================] - 9s 14ms/step - loss: 0.2211 - accuracy: 0.9076 - val_loss: 0.4908 - val_accuracy: 0.8232\n",
            "Epoch 17/50\n",
            "625/625 [==============================] - 9s 14ms/step - loss: 0.2139 - accuracy: 0.9104 - val_loss: 0.4816 - val_accuracy: 0.8202\n",
            "Epoch 18/50\n",
            "625/625 [==============================] - 9s 14ms/step - loss: 0.2052 - accuracy: 0.9152 - val_loss: 0.5004 - val_accuracy: 0.8207\n",
            "Epoch 19/50\n",
            "625/625 [==============================] - 9s 14ms/step - loss: 0.2007 - accuracy: 0.9162 - val_loss: 0.5870 - val_accuracy: 0.8152\n",
            "Epoch 20/50\n",
            "625/625 [==============================] - 9s 14ms/step - loss: 0.1901 - accuracy: 0.9208 - val_loss: 0.5632 - val_accuracy: 0.8183\n",
            "Epoch 21/50\n",
            "625/625 [==============================] - 9s 14ms/step - loss: 0.1870 - accuracy: 0.9224 - val_loss: 0.5696 - val_accuracy: 0.8135\n",
            "Epoch 22/50\n",
            "625/625 [==============================] - 9s 14ms/step - loss: 0.1801 - accuracy: 0.9245 - val_loss: 0.6022 - val_accuracy: 0.8165\n",
            "Epoch 23/50\n",
            "625/625 [==============================] - 9s 14ms/step - loss: 0.1719 - accuracy: 0.9295 - val_loss: 0.6604 - val_accuracy: 0.8125\n",
            "Epoch 24/50\n",
            "625/625 [==============================] - 9s 14ms/step - loss: 0.1661 - accuracy: 0.9322 - val_loss: 0.6402 - val_accuracy: 0.8156\n",
            "Epoch 25/50\n",
            "625/625 [==============================] - 9s 14ms/step - loss: 0.1597 - accuracy: 0.9345 - val_loss: 0.6837 - val_accuracy: 0.8123\n",
            "Epoch 26/50\n",
            "625/625 [==============================] - 9s 14ms/step - loss: 0.1566 - accuracy: 0.9352 - val_loss: 0.7119 - val_accuracy: 0.8164\n",
            "Epoch 27/50\n",
            "625/625 [==============================] - 9s 14ms/step - loss: 0.1471 - accuracy: 0.9395 - val_loss: 0.7876 - val_accuracy: 0.8097\n",
            "Epoch 28/50\n",
            "625/625 [==============================] - 9s 14ms/step - loss: 0.1425 - accuracy: 0.9412 - val_loss: 0.8726 - val_accuracy: 0.8109\n",
            "Epoch 29/50\n",
            "625/625 [==============================] - 9s 14ms/step - loss: 0.1384 - accuracy: 0.9425 - val_loss: 0.8884 - val_accuracy: 0.8055\n",
            "Epoch 30/50\n",
            "625/625 [==============================] - 9s 14ms/step - loss: 0.1293 - accuracy: 0.9460 - val_loss: 0.9593 - val_accuracy: 0.8079\n",
            "Epoch 31/50\n",
            "625/625 [==============================] - 9s 15ms/step - loss: 0.1294 - accuracy: 0.9474 - val_loss: 0.8777 - val_accuracy: 0.8027\n",
            "Epoch 32/50\n",
            "625/625 [==============================] - 9s 14ms/step - loss: 0.1247 - accuracy: 0.9488 - val_loss: 0.9057 - val_accuracy: 0.7992\n",
            "Epoch 33/50\n",
            "625/625 [==============================] - 9s 14ms/step - loss: 0.1151 - accuracy: 0.9521 - val_loss: 1.0172 - val_accuracy: 0.8061\n",
            "Epoch 34/50\n",
            "625/625 [==============================] - 9s 14ms/step - loss: 0.1121 - accuracy: 0.9535 - val_loss: 0.9814 - val_accuracy: 0.8012\n",
            "Epoch 35/50\n",
            "625/625 [==============================] - 9s 14ms/step - loss: 0.1077 - accuracy: 0.9547 - val_loss: 1.0618 - val_accuracy: 0.7988\n",
            "Epoch 36/50\n",
            "625/625 [==============================] - 9s 14ms/step - loss: 0.1028 - accuracy: 0.9560 - val_loss: 1.1145 - val_accuracy: 0.7998\n",
            "Epoch 37/50\n",
            "625/625 [==============================] - 9s 14ms/step - loss: 0.1007 - accuracy: 0.9561 - val_loss: 1.1618 - val_accuracy: 0.7953\n",
            "Epoch 38/50\n",
            "625/625 [==============================] - 9s 14ms/step - loss: 0.0957 - accuracy: 0.9599 - val_loss: 1.2378 - val_accuracy: 0.8032\n",
            "Epoch 39/50\n",
            "625/625 [==============================] - 9s 14ms/step - loss: 0.0948 - accuracy: 0.9587 - val_loss: 1.2650 - val_accuracy: 0.8003\n",
            "Epoch 40/50\n",
            "625/625 [==============================] - 9s 14ms/step - loss: 0.0849 - accuracy: 0.9628 - val_loss: 1.3626 - val_accuracy: 0.8016\n",
            "Epoch 41/50\n",
            "625/625 [==============================] - 9s 14ms/step - loss: 0.0877 - accuracy: 0.9609 - val_loss: 1.3707 - val_accuracy: 0.8030\n",
            "Epoch 42/50\n",
            "625/625 [==============================] - 9s 14ms/step - loss: 0.0865 - accuracy: 0.9621 - val_loss: 1.3799 - val_accuracy: 0.8052\n",
            "Epoch 43/50\n",
            "625/625 [==============================] - 9s 14ms/step - loss: 0.0837 - accuracy: 0.9625 - val_loss: 1.4227 - val_accuracy: 0.8019\n",
            "Epoch 44/50\n",
            "625/625 [==============================] - 9s 14ms/step - loss: 0.0764 - accuracy: 0.9648 - val_loss: 1.5027 - val_accuracy: 0.7991\n",
            "Epoch 45/50\n",
            "625/625 [==============================] - 9s 14ms/step - loss: 0.0715 - accuracy: 0.9671 - val_loss: 1.5702 - val_accuracy: 0.7970\n",
            "Epoch 46/50\n",
            "625/625 [==============================] - 9s 14ms/step - loss: 0.0719 - accuracy: 0.9664 - val_loss: 1.5735 - val_accuracy: 0.7916\n",
            "Epoch 47/50\n",
            "625/625 [==============================] - 9s 14ms/step - loss: 0.0754 - accuracy: 0.9657 - val_loss: 1.6029 - val_accuracy: 0.7959\n",
            "Epoch 48/50\n",
            "625/625 [==============================] - 9s 14ms/step - loss: 0.0678 - accuracy: 0.9682 - val_loss: 1.5818 - val_accuracy: 0.8009\n",
            "Epoch 49/50\n",
            "625/625 [==============================] - 9s 14ms/step - loss: 0.0721 - accuracy: 0.9675 - val_loss: 1.6403 - val_accuracy: 0.7956\n",
            "Epoch 50/50\n",
            "625/625 [==============================] - 9s 14ms/step - loss: 0.0630 - accuracy: 0.9701 - val_loss: 1.7279 - val_accuracy: 0.7982\n"
          ],
          "name": "stdout"
        }
      ]
    },
    {
      "cell_type": "code",
      "metadata": {
        "colab_type": "code",
        "id": "g9DC6dmLF8DC",
        "colab": {
          "base_uri": "https://localhost:8080/",
          "height": 541
        },
        "outputId": "f4dcb4ea-3cc7-48a6-a638-11abf4dd3216"
      },
      "source": [
        "import matplotlib.pyplot as plt\n",
        "\n",
        "\n",
        "def plot_graphs(history, string):\n",
        "  plt.plot(history.history[string])\n",
        "  plt.plot(history.history['val_'+string])\n",
        "  plt.xlabel(\"Epochs\")\n",
        "  plt.ylabel(string)\n",
        "  plt.legend([string, 'val_'+string])\n",
        "  plt.show()\n",
        "\n",
        "plot_graphs(history, 'accuracy')\n",
        "plot_graphs(history, 'loss')"
      ],
      "execution_count": 3,
      "outputs": [
        {
          "output_type": "display_data",
          "data": {
            "image/png": "[encoded data removed]",
            "text/plain": [
              "<Figure size 432x288 with 1 Axes>"
            ]
          },
          "metadata": {
            "tags": [],
            "needs_background": "light"
          }
        },
        {
          "output_type": "display_data",
          "data": {
            "image/png": "[encoded data removed]",
            "text/plain": [
              "<Figure size 432x288 with 1 Axes>"
            ]
          },
          "metadata": {
            "tags": [],
            "needs_background": "light"
          }
        }
      ]
    },
    {
      "cell_type": "code",
      "metadata": {
        "colab_type": "code",
        "id": "7ZEZIUppGhdi",
        "colab": {}
      },
      "source": [
        "model.save(\"test.h5\")"
      ],
      "execution_count": 4,
      "outputs": []
    }
  ]
}