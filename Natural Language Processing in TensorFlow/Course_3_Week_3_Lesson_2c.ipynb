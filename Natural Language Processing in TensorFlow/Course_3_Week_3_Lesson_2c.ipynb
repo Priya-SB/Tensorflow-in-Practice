{
  "nbformat": 4,
  "nbformat_minor": 0,
  "metadata": {
    "accelerator": "GPU",
    "colab": {
      "name": "Course 3 - Week 3 - Lesson 2c.ipynb",
      "provenance": [],
      "collapsed_sections": [],
      "toc_visible": true,
      "include_colab_link": true
    },
    "kernelspec": {
      "display_name": "Python 3",
      "language": "python",
      "name": "python3"
    },
    "language_info": {
      "codemirror_mode": {
        "name": "ipython",
        "version": 3
      },
      "file_extension": ".py",
      "mimetype": "text/x-python",
      "name": "python",
      "nbconvert_exporter": "python",
      "pygments_lexer": "ipython3",
      "version": "3.7.6"
    }
  },
  "cells": [
    {
      "cell_type": "markdown",
      "metadata": {
        "id": "view-in-github",
        "colab_type": "text"
      },
      "source": [
        "<a href=\"https://colab.research.google.com/github/Priya-SB/Tensorflow-in-Practice/blob/master/Natural%20Language%20Processing%20in%20TensorFlow/Course_3_Week_3_Lesson_2c.ipynb\" target=\"_parent\"><img src=\"https://colab.research.google.com/assets/colab-badge.svg\" alt=\"Open In Colab\"/></a>"
      ]
    },
    {
      "cell_type": "code",
      "metadata": {
        "colab_type": "code",
        "id": "zX4Kg8DUTKWO",
        "colab": {}
      },
      "source": [
        "#@title Licensed under the Apache License, Version 2.0 (the \"License\");\n",
        "# you may not use this file except in compliance with the License.\n",
        "# You may obtain a copy of the License at\n",
        "#\n",
        "# https://www.apache.org/licenses/LICENSE-2.0\n",
        "#\n",
        "# Unless required by applicable law or agreed to in writing, software\n",
        "# distributed under the License is distributed on an \"AS IS\" BASIS,\n",
        "# WITHOUT WARRANTIES OR CONDITIONS OF ANY KIND, either express or implied.\n",
        "# See the License for the specific language governing permissions and\n",
        "# limitations under the License."
      ],
      "execution_count": null,
      "outputs": []
    },
    {
      "cell_type": "markdown",
      "metadata": {
        "id": "KZfWUPgDP3Co",
        "colab_type": "text"
      },
      "source": [
        "<a href=\"https://colab.research.google.com/github/lmoroney/dlaicourse/blob/master/TensorFlow%20In%20Practice/Course%203%20-%20NLP/Course%203%20-%20Week%203%20-%20Lesson%202c.ipynb\" target=\"_parent\"><img src=\"https://colab.research.google.com/assets/colab-badge.svg\" alt=\"Open In Colab\"/></a>"
      ]
    },
    {
      "cell_type": "code",
      "metadata": {
        "colab_type": "code",
        "id": "jGwXGIXvFhXW",
        "colab": {
          "base_uri": "https://localhost:8080/",
          "height": 1000
        },
        "outputId": "5de5c47a-b42f-4dde-9079-f2f0128e197d"
      },
      "source": [
        "import numpy as np\n",
        "\n",
        "import json\n",
        "import tensorflow as tf\n",
        "\n",
        "from tensorflow.keras.preprocessing.text import Tokenizer\n",
        "from tensorflow.keras.preprocessing.sequence import pad_sequences\n",
        "\n",
        "!wget --no-check-certificate \\\n",
        "    https://storage.googleapis.com/laurencemoroney-blog.appspot.com/sarcasm.json \\\n",
        "    -O /tmp/sarcasm.json\n",
        "\n",
        "vocab_size = 1000\n",
        "embedding_dim = 16\n",
        "max_length = 120\n",
        "trunc_type='post'\n",
        "padding_type='post'\n",
        "oov_tok = \"<OOV>\"\n",
        "training_size = 20000\n",
        "\n",
        "\n",
        "with open(\"/tmp/sarcasm.json\", 'r') as f:\n",
        "    datastore = json.load(f)\n",
        "\n",
        "\n",
        "sentences = []\n",
        "labels = []\n",
        "urls = []\n",
        "for item in datastore:\n",
        "    sentences.append(item['headline'])\n",
        "    labels.append(item['is_sarcastic'])\n",
        "\n",
        "training_sentences = sentences[0:training_size]\n",
        "testing_sentences = sentences[training_size:]\n",
        "training_labels = labels[0:training_size]\n",
        "testing_labels = labels[training_size:]\n",
        "\n",
        "tokenizer = Tokenizer(num_words=vocab_size, oov_token=oov_tok)\n",
        "tokenizer.fit_on_texts(training_sentences)\n",
        "\n",
        "word_index = tokenizer.word_index\n",
        "\n",
        "training_sequences = tokenizer.texts_to_sequences(training_sentences)\n",
        "training_padded = pad_sequences(training_sequences, maxlen=max_length, padding=padding_type, truncating=trunc_type)\n",
        "\n",
        "testing_sequences = tokenizer.texts_to_sequences(testing_sentences)\n",
        "testing_padded = pad_sequences(testing_sequences, maxlen=max_length, padding=padding_type, truncating=trunc_type)\n",
        "\n",
        "model = tf.keras.Sequential([\n",
        "    tf.keras.layers.Embedding(vocab_size, embedding_dim, input_length=max_length),\n",
        "    tf.keras.layers.Conv1D(128, 5, activation='relu'),\n",
        "    tf.keras.layers.GlobalMaxPooling1D(),\n",
        "    tf.keras.layers.Dense(24, activation='relu'),\n",
        "    tf.keras.layers.Dense(1, activation='sigmoid')\n",
        "])\n",
        "model.compile(loss='binary_crossentropy',optimizer='adam',metrics=['accuracy'])\n",
        "model.summary()\n",
        "\n",
        "num_epochs = 50\n",
        "\n",
        "training_padded = np.array(training_padded)\n",
        "training_labels = np.array(training_labels)\n",
        "testing_padded = np.array(testing_padded)\n",
        "testing_labels = np.array(testing_labels)\n",
        "\n",
        "history = model.fit(training_padded, training_labels, epochs=num_epochs, validation_data=(testing_padded, testing_labels), verbose=1)\n"
      ],
      "execution_count": null,
      "outputs": [
        {
          "output_type": "stream",
          "text": [
            "--2020-08-08 11:01:44--  https://storage.googleapis.com/laurencemoroney-blog.appspot.com/sarcasm.json\n",
            "Resolving storage.googleapis.com (storage.googleapis.com)... 74.125.199.128, 74.125.20.128, 74.125.142.128, ...\n",
            "Connecting to storage.googleapis.com (storage.googleapis.com)|74.125.199.128|:443... connected.\n",
            "HTTP request sent, awaiting response... 200 OK\n",
            "Length: 5643545 (5.4M) [application/json]\n",
            "Saving to: ‘/tmp/sarcasm.json’\n",
            "\n",
            "\r/tmp/sarcasm.json     0%[                    ]       0  --.-KB/s               \r/tmp/sarcasm.json   100%[===================>]   5.38M  --.-KB/s    in 0.05s   \n",
            "\n",
            "2020-08-08 11:01:44 (108 MB/s) - ‘/tmp/sarcasm.json’ saved [5643545/5643545]\n",
            "\n",
            "Model: \"sequential\"\n",
            "_________________________________________________________________\n",
            "Layer (type)                 Output Shape              Param #   \n",
            "=================================================================\n",
            "embedding (Embedding)        (None, 120, 16)           16000     \n",
            "_________________________________________________________________\n",
            "conv1d (Conv1D)              (None, 116, 128)          10368     \n",
            "_________________________________________________________________\n",
            "global_max_pooling1d (Global (None, 128)               0         \n",
            "_________________________________________________________________\n",
            "dense (Dense)                (None, 24)                3096      \n",
            "_________________________________________________________________\n",
            "dense_1 (Dense)              (None, 1)                 25        \n",
            "=================================================================\n",
            "Total params: 29,489\n",
            "Trainable params: 29,489\n",
            "Non-trainable params: 0\n",
            "_________________________________________________________________\n",
            "Epoch 1/50\n",
            "625/625 [==============================] - 2s 4ms/step - loss: 0.4749 - accuracy: 0.7574 - val_loss: 0.4077 - val_accuracy: 0.8199\n",
            "Epoch 2/50\n",
            "625/625 [==============================] - 2s 4ms/step - loss: 0.3568 - accuracy: 0.8410 - val_loss: 0.3918 - val_accuracy: 0.8223\n",
            "Epoch 3/50\n",
            "625/625 [==============================] - 2s 4ms/step - loss: 0.3204 - accuracy: 0.8568 - val_loss: 0.3913 - val_accuracy: 0.8255\n",
            "Epoch 4/50\n",
            "625/625 [==============================] - 2s 3ms/step - loss: 0.2864 - accuracy: 0.8735 - val_loss: 0.4091 - val_accuracy: 0.8189\n",
            "Epoch 5/50\n",
            "625/625 [==============================] - 2s 3ms/step - loss: 0.2540 - accuracy: 0.8913 - val_loss: 0.4278 - val_accuracy: 0.8179\n",
            "Epoch 6/50\n",
            "625/625 [==============================] - 2s 4ms/step - loss: 0.2177 - accuracy: 0.9109 - val_loss: 0.4629 - val_accuracy: 0.8135\n",
            "Epoch 7/50\n",
            "625/625 [==============================] - 2s 4ms/step - loss: 0.1865 - accuracy: 0.9247 - val_loss: 0.5099 - val_accuracy: 0.8094\n",
            "Epoch 8/50\n",
            "625/625 [==============================] - 2s 4ms/step - loss: 0.1534 - accuracy: 0.9424 - val_loss: 0.5708 - val_accuracy: 0.8058\n",
            "Epoch 9/50\n",
            "625/625 [==============================] - 2s 3ms/step - loss: 0.1291 - accuracy: 0.9517 - val_loss: 0.6544 - val_accuracy: 0.8055\n",
            "Epoch 10/50\n",
            "625/625 [==============================] - 2s 3ms/step - loss: 0.1068 - accuracy: 0.9624 - val_loss: 0.8140 - val_accuracy: 0.7919\n",
            "Epoch 11/50\n",
            "625/625 [==============================] - 2s 3ms/step - loss: 0.0890 - accuracy: 0.9679 - val_loss: 0.7954 - val_accuracy: 0.7992\n",
            "Epoch 12/50\n",
            "625/625 [==============================] - 2s 4ms/step - loss: 0.0745 - accuracy: 0.9747 - val_loss: 0.8742 - val_accuracy: 0.7961\n",
            "Epoch 13/50\n",
            "625/625 [==============================] - 2s 3ms/step - loss: 0.0625 - accuracy: 0.9789 - val_loss: 0.9477 - val_accuracy: 0.7910\n",
            "Epoch 14/50\n",
            "625/625 [==============================] - 2s 4ms/step - loss: 0.0529 - accuracy: 0.9816 - val_loss: 1.0778 - val_accuracy: 0.7930\n",
            "Epoch 15/50\n",
            "625/625 [==============================] - 2s 3ms/step - loss: 0.0519 - accuracy: 0.9825 - val_loss: 1.1090 - val_accuracy: 0.7936\n",
            "Epoch 16/50\n",
            "625/625 [==============================] - 2s 4ms/step - loss: 0.0446 - accuracy: 0.9837 - val_loss: 1.2707 - val_accuracy: 0.7949\n",
            "Epoch 17/50\n",
            "625/625 [==============================] - 2s 4ms/step - loss: 0.0459 - accuracy: 0.9836 - val_loss: 1.2865 - val_accuracy: 0.7843\n",
            "Epoch 18/50\n",
            "625/625 [==============================] - 2s 4ms/step - loss: 0.0432 - accuracy: 0.9833 - val_loss: 1.2603 - val_accuracy: 0.7845\n",
            "Epoch 19/50\n",
            "625/625 [==============================] - 2s 3ms/step - loss: 0.0390 - accuracy: 0.9854 - val_loss: 1.4064 - val_accuracy: 0.7886\n",
            "Epoch 20/50\n",
            "625/625 [==============================] - 2s 4ms/step - loss: 0.0337 - accuracy: 0.9876 - val_loss: 1.4487 - val_accuracy: 0.7898\n",
            "Epoch 21/50\n",
            "625/625 [==============================] - 2s 3ms/step - loss: 0.0360 - accuracy: 0.9858 - val_loss: 1.3993 - val_accuracy: 0.7860\n",
            "Epoch 22/50\n",
            "625/625 [==============================] - 2s 4ms/step - loss: 0.0342 - accuracy: 0.9866 - val_loss: 1.6456 - val_accuracy: 0.7918\n",
            "Epoch 23/50\n",
            "625/625 [==============================] - 2s 3ms/step - loss: 0.0331 - accuracy: 0.9869 - val_loss: 1.5021 - val_accuracy: 0.7880\n",
            "Epoch 24/50\n",
            "625/625 [==============================] - 2s 3ms/step - loss: 0.0315 - accuracy: 0.9872 - val_loss: 1.5773 - val_accuracy: 0.7901\n",
            "Epoch 25/50\n",
            "625/625 [==============================] - 2s 3ms/step - loss: 0.0267 - accuracy: 0.9898 - val_loss: 1.6437 - val_accuracy: 0.7874\n",
            "Epoch 26/50\n",
            "625/625 [==============================] - 2s 3ms/step - loss: 0.0270 - accuracy: 0.9890 - val_loss: 1.8388 - val_accuracy: 0.7892\n",
            "Epoch 27/50\n",
            "625/625 [==============================] - 2s 4ms/step - loss: 0.0280 - accuracy: 0.9897 - val_loss: 1.6285 - val_accuracy: 0.7872\n",
            "Epoch 28/50\n",
            "625/625 [==============================] - 2s 3ms/step - loss: 0.0297 - accuracy: 0.9888 - val_loss: 1.8209 - val_accuracy: 0.7924\n",
            "Epoch 29/50\n",
            "625/625 [==============================] - 2s 3ms/step - loss: 0.0290 - accuracy: 0.9883 - val_loss: 1.7835 - val_accuracy: 0.7909\n",
            "Epoch 30/50\n",
            "625/625 [==============================] - 2s 3ms/step - loss: 0.0324 - accuracy: 0.9880 - val_loss: 1.7505 - val_accuracy: 0.7910\n",
            "Epoch 31/50\n",
            "625/625 [==============================] - 2s 3ms/step - loss: 0.0253 - accuracy: 0.9904 - val_loss: 1.8010 - val_accuracy: 0.7898\n",
            "Epoch 32/50\n",
            "625/625 [==============================] - 2s 4ms/step - loss: 0.0227 - accuracy: 0.9909 - val_loss: 1.9259 - val_accuracy: 0.7907\n",
            "Epoch 33/50\n",
            "625/625 [==============================] - 2s 4ms/step - loss: 0.0260 - accuracy: 0.9893 - val_loss: 1.9727 - val_accuracy: 0.7834\n",
            "Epoch 34/50\n",
            "625/625 [==============================] - 2s 4ms/step - loss: 0.0206 - accuracy: 0.9918 - val_loss: 2.0660 - val_accuracy: 0.7869\n",
            "Epoch 35/50\n",
            "625/625 [==============================] - 2s 3ms/step - loss: 0.0240 - accuracy: 0.9901 - val_loss: 1.9697 - val_accuracy: 0.7892\n",
            "Epoch 36/50\n",
            "625/625 [==============================] - 2s 4ms/step - loss: 0.0252 - accuracy: 0.9894 - val_loss: 1.9691 - val_accuracy: 0.7874\n",
            "Epoch 37/50\n",
            "625/625 [==============================] - 2s 4ms/step - loss: 0.0222 - accuracy: 0.9905 - val_loss: 2.0418 - val_accuracy: 0.7904\n",
            "Epoch 38/50\n",
            "625/625 [==============================] - 2s 4ms/step - loss: 0.0240 - accuracy: 0.9899 - val_loss: 2.0629 - val_accuracy: 0.7872\n",
            "Epoch 39/50\n",
            "625/625 [==============================] - 2s 3ms/step - loss: 0.0209 - accuracy: 0.9916 - val_loss: 2.1653 - val_accuracy: 0.7830\n",
            "Epoch 40/50\n",
            "625/625 [==============================] - 2s 4ms/step - loss: 0.0245 - accuracy: 0.9900 - val_loss: 2.1522 - val_accuracy: 0.7959\n",
            "Epoch 41/50\n",
            "625/625 [==============================] - 2s 4ms/step - loss: 0.0230 - accuracy: 0.9906 - val_loss: 2.2552 - val_accuracy: 0.7840\n",
            "Epoch 42/50\n",
            "625/625 [==============================] - 2s 4ms/step - loss: 0.0251 - accuracy: 0.9898 - val_loss: 2.1821 - val_accuracy: 0.7903\n",
            "Epoch 43/50\n",
            "625/625 [==============================] - 2s 3ms/step - loss: 0.0238 - accuracy: 0.9898 - val_loss: 2.2964 - val_accuracy: 0.7897\n",
            "Epoch 44/50\n",
            "625/625 [==============================] - 2s 4ms/step - loss: 0.0204 - accuracy: 0.9911 - val_loss: 2.1800 - val_accuracy: 0.7848\n",
            "Epoch 45/50\n",
            "625/625 [==============================] - 2s 4ms/step - loss: 0.0184 - accuracy: 0.9923 - val_loss: 2.2757 - val_accuracy: 0.7873\n",
            "Epoch 46/50\n",
            "625/625 [==============================] - 2s 4ms/step - loss: 0.0202 - accuracy: 0.9906 - val_loss: 2.2899 - val_accuracy: 0.7873\n",
            "Epoch 47/50\n",
            "625/625 [==============================] - 2s 4ms/step - loss: 0.0238 - accuracy: 0.9896 - val_loss: 2.3657 - val_accuracy: 0.7864\n",
            "Epoch 48/50\n",
            "625/625 [==============================] - 2s 4ms/step - loss: 0.0219 - accuracy: 0.9906 - val_loss: 2.2253 - val_accuracy: 0.7872\n",
            "Epoch 49/50\n",
            "625/625 [==============================] - 2s 4ms/step - loss: 0.0202 - accuracy: 0.9911 - val_loss: 2.4213 - val_accuracy: 0.7866\n",
            "Epoch 50/50\n",
            "625/625 [==============================] - 2s 4ms/step - loss: 0.0192 - accuracy: 0.9918 - val_loss: 2.3143 - val_accuracy: 0.7876\n"
          ],
          "name": "stdout"
        }
      ]
    },
    {
      "cell_type": "code",
      "metadata": {
        "colab_type": "code",
        "id": "g9DC6dmLF8DC",
        "colab": {
          "base_uri": "https://localhost:8080/",
          "height": 543
        },
        "outputId": "ce3c4221-0847-42c1-e6da-6ce13fc1442c"
      },
      "source": [
        "import matplotlib.pyplot as plt\n",
        "\n",
        "\n",
        "def plot_graphs(history, string):\n",
        "  plt.plot(history.history[string])\n",
        "  plt.plot(history.history['val_'+string])\n",
        "  plt.xlabel(\"Epochs\")\n",
        "  plt.ylabel(string)\n",
        "  plt.legend([string, 'val_'+string])\n",
        "  plt.show()\n",
        "\n",
        "plot_graphs(history, 'accuracy')\n",
        "plot_graphs(history, 'loss')"
      ],
      "execution_count": null,
      "outputs": [
        {
          "output_type": "display_data",
          "data": {
            "image/png": "[encoded data removed]",
            "text/plain": [
              "<Figure size 432x288 with 1 Axes>"
            ]
          },
          "metadata": {
            "tags": [],
            "needs_background": "light"
          }
        },
        {
          "output_type": "display_data",
          "data": {
            "image/png": "[encoded data removed]",
            "text/plain": [
              "<Figure size 432x288 with 1 Axes>"
            ]
          },
          "metadata": {
            "tags": [],
            "needs_background": "light"
          }
        }
      ]
    },
    {
      "cell_type": "code",
      "metadata": {
        "colab_type": "code",
        "id": "7ZEZIUppGhdi",
        "colab": {}
      },
      "source": [
        "model.save(\"test.h5\")"
      ],
      "execution_count": null,
      "outputs": []
    }
  ]
}