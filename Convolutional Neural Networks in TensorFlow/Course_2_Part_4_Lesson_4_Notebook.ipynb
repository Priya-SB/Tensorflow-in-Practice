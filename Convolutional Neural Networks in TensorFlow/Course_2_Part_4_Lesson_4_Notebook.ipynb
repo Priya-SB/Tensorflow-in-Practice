{
  "nbformat": 4,
  "nbformat_minor": 0,
  "metadata": {
    "accelerator": "GPU",
    "colab": {
      "name": "Course 2 - Part 4 - Lesson 4 - Notebook.ipynb",
      "provenance": [],
      "collapsed_sections": [],
      "toc_visible": true,
      "include_colab_link": true
    },
    "kernelspec": {
      "display_name": "Python 3",
      "name": "python3"
    }
  },
  "cells": [
    {
      "cell_type": "markdown",
      "metadata": {
        "id": "view-in-github",
        "colab_type": "text"
      },
      "source": [
        "<a href=\"https://colab.research.google.com/github/Priya-SB/Tensorflow-in-Practice/blob/master/Convolutional%20Neural%20Networks%20in%20TensorFlow/Course_2_Part_4_Lesson_4_Notebook.ipynb\" target=\"_parent\"><img src=\"https://colab.research.google.com/assets/colab-badge.svg\" alt=\"Open In Colab\"/></a>"
      ]
    },
    {
      "cell_type": "markdown",
      "metadata": {
        "colab_type": "text",
        "id": "rX8mhOLljYeM"
      },
      "source": [
        "##### Copyright 2019 The TensorFlow Authors."
      ]
    },
    {
      "cell_type": "code",
      "metadata": {
        "cellView": "form",
        "colab_type": "code",
        "id": "BZSlp3DAjdYf",
        "colab": {}
      },
      "source": [
        "#@title Licensed under the Apache License, Version 2.0 (the \"License\");\n",
        "# you may not use this file except in compliance with the License.\n",
        "# You may obtain a copy of the License at\n",
        "#\n",
        "# https://www.apache.org/licenses/LICENSE-2.0\n",
        "#\n",
        "# Unless required by applicable law or agreed to in writing, software\n",
        "# distributed under the License is distributed on an \"AS IS\" BASIS,\n",
        "# WITHOUT WARRANTIES OR CONDITIONS OF ANY KIND, either express or implied.\n",
        "# See the License for the specific language governing permissions and\n",
        "# limitations under the License."
      ],
      "execution_count": 1,
      "outputs": []
    },
    {
      "cell_type": "code",
      "metadata": {
        "colab_type": "code",
        "id": "RXZT2UsyIVe_",
        "colab": {
          "base_uri": "https://localhost:8080/",
          "height": 391
        },
        "outputId": "73877257-de29-4277-f2ce-bd5402d47036"
      },
      "source": [
        "!wget --no-check-certificate \\\n",
        "    https://storage.googleapis.com/laurencemoroney-blog.appspot.com/horse-or-human.zip \\\n",
        "    -O /tmp/horse-or-human.zip\n",
        "\n",
        "!wget --no-check-certificate \\\n",
        "    https://storage.googleapis.com/laurencemoroney-blog.appspot.com/validation-horse-or-human.zip \\\n",
        "    -O /tmp/validation-horse-or-human.zip\n",
        "  \n",
        "import os\n",
        "import zipfile\n",
        "\n",
        "local_zip = '/tmp/horse-or-human.zip'\n",
        "zip_ref = zipfile.ZipFile(local_zip, 'r')\n",
        "zip_ref.extractall('/tmp/horse-or-human')\n",
        "local_zip = '/tmp/validation-horse-or-human.zip'\n",
        "zip_ref = zipfile.ZipFile(local_zip, 'r')\n",
        "zip_ref.extractall('/tmp/validation-horse-or-human')\n",
        "zip_ref.close()\n",
        "# Directory with our training horse pictures\n",
        "train_horse_dir = os.path.join('/tmp/horse-or-human/horses')\n",
        "\n",
        "# Directory with our training human pictures\n",
        "train_human_dir = os.path.join('/tmp/horse-or-human/humans')\n",
        "\n",
        "# Directory with our training horse pictures\n",
        "validation_horse_dir = os.path.join('/tmp/validation-horse-or-human/horses')\n",
        "\n",
        "# Directory with our training human pictures\n",
        "validation_human_dir = os.path.join('/tmp/validation-horse-or-human/humans')"
      ],
      "execution_count": 2,
      "outputs": [
        {
          "output_type": "stream",
          "text": [
            "--2020-08-22 04:49:44--  https://storage.googleapis.com/laurencemoroney-blog.appspot.com/horse-or-human.zip\n",
            "Resolving storage.googleapis.com (storage.googleapis.com)... 108.177.119.128, 108.177.126.128, 108.177.127.128, ...\n",
            "Connecting to storage.googleapis.com (storage.googleapis.com)|108.177.119.128|:443... connected.\n",
            "HTTP request sent, awaiting response... 200 OK\n",
            "Length: 149574867 (143M) [application/zip]\n",
            "Saving to: ‘/tmp/horse-or-human.zip’\n",
            "\n",
            "/tmp/horse-or-human 100%[===================>] 142.65M   127MB/s    in 1.1s    \n",
            "\n",
            "2020-08-22 04:49:45 (127 MB/s) - ‘/tmp/horse-or-human.zip’ saved [149574867/149574867]\n",
            "\n",
            "--2020-08-22 04:49:47--  https://storage.googleapis.com/laurencemoroney-blog.appspot.com/validation-horse-or-human.zip\n",
            "Resolving storage.googleapis.com (storage.googleapis.com)... 172.217.218.128, 74.125.143.128, 173.194.79.128, ...\n",
            "Connecting to storage.googleapis.com (storage.googleapis.com)|172.217.218.128|:443... connected.\n",
            "HTTP request sent, awaiting response... 200 OK\n",
            "Length: 11480187 (11M) [application/zip]\n",
            "Saving to: ‘/tmp/validation-horse-or-human.zip’\n",
            "\n",
            "/tmp/validation-hor 100%[===================>]  10.95M  --.-KB/s    in 0.1s    \n",
            "\n",
            "2020-08-22 04:49:48 (105 MB/s) - ‘/tmp/validation-horse-or-human.zip’ saved [11480187/11480187]\n",
            "\n"
          ],
          "name": "stdout"
        }
      ]
    },
    {
      "cell_type": "markdown",
      "metadata": {
        "colab_type": "text",
        "id": "5oqBkNBJmtUv"
      },
      "source": [
        "## Building a Small Model from Scratch\n",
        "\n",
        "But before we continue, let's start defining the model:\n",
        "\n",
        "Step 1 will be to import tensorflow."
      ]
    },
    {
      "cell_type": "code",
      "metadata": {
        "colab_type": "code",
        "id": "qvfZg3LQbD-5",
        "colab": {}
      },
      "source": [
        "import tensorflow as tf"
      ],
      "execution_count": 3,
      "outputs": []
    },
    {
      "cell_type": "markdown",
      "metadata": {
        "colab_type": "text",
        "id": "BnhYCP4tdqjC"
      },
      "source": [
        "We then add convolutional layers as in the previous example, and flatten the final result to feed into the densely connected layers."
      ]
    },
    {
      "cell_type": "markdown",
      "metadata": {
        "colab_type": "text",
        "id": "gokG5HKpdtzm"
      },
      "source": [
        "Finally we add the densely connected layers. \n",
        "\n",
        "Note that because we are facing a two-class classification problem, i.e. a *binary classification problem*, we will end our network with a [*sigmoid* activation](https://wikipedia.org/wiki/Sigmoid_function), so that the output of our network will be a single scalar between 0 and 1, encoding the probability that the current image is class 1 (as opposed to class 0)."
      ]
    },
    {
      "cell_type": "code",
      "metadata": {
        "colab_type": "code",
        "id": "PixZ2s5QbYQ3",
        "colab": {}
      },
      "source": [
        "model = tf.keras.models.Sequential([\n",
        "    # Note the input shape is the desired size of the image 300x300 with 3 bytes color\n",
        "    # This is the first convolution\n",
        "    tf.keras.layers.Conv2D(16, (3,3), activation='relu', input_shape=(300, 300, 3)),\n",
        "    tf.keras.layers.MaxPooling2D(2, 2),\n",
        "    # The second convolution\n",
        "    tf.keras.layers.Conv2D(32, (3,3), activation='relu'),\n",
        "    tf.keras.layers.MaxPooling2D(2,2),\n",
        "    # The third convolution\n",
        "    tf.keras.layers.Conv2D(64, (3,3), activation='relu'),\n",
        "    tf.keras.layers.MaxPooling2D(2,2),\n",
        "    # The fourth convolution\n",
        "    tf.keras.layers.Conv2D(64, (3,3), activation='relu'),\n",
        "    tf.keras.layers.MaxPooling2D(2,2),\n",
        "    # The fifth convolution\n",
        "    tf.keras.layers.Conv2D(64, (3,3), activation='relu'),\n",
        "    tf.keras.layers.MaxPooling2D(2,2),\n",
        "    # Flatten the results to feed into a DNN\n",
        "    tf.keras.layers.Flatten(),\n",
        "    # 512 neuron hidden layer\n",
        "    tf.keras.layers.Dense(512, activation='relu'),\n",
        "    # Only 1 output neuron. It will contain a value from 0-1 where 0 for 1 class ('horses') and 1 for the other ('humans')\n",
        "    tf.keras.layers.Dense(1, activation='sigmoid')\n",
        "])"
      ],
      "execution_count": 4,
      "outputs": []
    },
    {
      "cell_type": "code",
      "metadata": {
        "colab_type": "code",
        "id": "8DHWhFP_uhq3",
        "colab": {}
      },
      "source": [
        "from tensorflow.keras.optimizers import RMSprop\n",
        "\n",
        "model.compile(loss='binary_crossentropy',\n",
        "              optimizer=RMSprop(lr=1e-4),\n",
        "              metrics=['accuracy'])"
      ],
      "execution_count": 5,
      "outputs": []
    },
    {
      "cell_type": "code",
      "metadata": {
        "colab_type": "code",
        "id": "ClebU9NJg99G",
        "colab": {
          "base_uri": "https://localhost:8080/",
          "height": 51
        },
        "outputId": "357fdf40-c03c-43e3-feea-4e9d6b8f8b63"
      },
      "source": [
        "from tensorflow.keras.preprocessing.image import ImageDataGenerator\n",
        "\n",
        "# All images will be rescaled by 1./255\n",
        "train_datagen = ImageDataGenerator(\n",
        "      rescale=1./255,\n",
        "      rotation_range=40,\n",
        "      width_shift_range=0.2,\n",
        "      height_shift_range=0.2,\n",
        "      shear_range=0.2,\n",
        "      zoom_range=0.2,\n",
        "      horizontal_flip=True,\n",
        "      fill_mode='nearest')\n",
        "\n",
        "validation_datagen = ImageDataGenerator(rescale=1/255)\n",
        "\n",
        "# Flow training images in batches of 128 using train_datagen generator\n",
        "train_generator = train_datagen.flow_from_directory(\n",
        "        '/tmp/horse-or-human/',  # This is the source directory for training images\n",
        "        target_size=(300, 300),  # All images will be resized to 150x150\n",
        "        batch_size=128,\n",
        "        # Since we use binary_crossentropy loss, we need binary labels\n",
        "        class_mode='binary')\n",
        "\n",
        "# Flow training images in batches of 128 using train_datagen generator\n",
        "validation_generator = validation_datagen.flow_from_directory(\n",
        "        '/tmp/validation-horse-or-human/',  # This is the source directory for training images\n",
        "        target_size=(300, 300),  # All images will be resized to 150x150\n",
        "        batch_size=32,\n",
        "        # Since we use binary_crossentropy loss, we need binary labels\n",
        "        class_mode='binary')"
      ],
      "execution_count": 6,
      "outputs": [
        {
          "output_type": "stream",
          "text": [
            "Found 1027 images belonging to 2 classes.\n",
            "Found 256 images belonging to 2 classes.\n"
          ],
          "name": "stdout"
        }
      ]
    },
    {
      "cell_type": "code",
      "metadata": {
        "colab_type": "code",
        "id": "Fb1_lgobv81m",
        "colab": {
          "base_uri": "https://localhost:8080/",
          "height": 1000
        },
        "outputId": "313086c2-2d7e-4b95-a4c4-73d52260eca9"
      },
      "source": [
        "history = model.fit(\n",
        "      train_generator,\n",
        "      steps_per_epoch=8,  \n",
        "      epochs=100,\n",
        "      verbose=1,\n",
        "      validation_data = validation_generator,\n",
        "      validation_steps=8)"
      ],
      "execution_count": 7,
      "outputs": [
        {
          "output_type": "stream",
          "text": [
            "Epoch 1/100\n",
            "8/8 [==============================] - 16s 2s/step - loss: 0.6880 - accuracy: 0.5139 - val_loss: 0.6660 - val_accuracy: 0.5391\n",
            "Epoch 2/100\n",
            "8/8 [==============================] - 18s 2s/step - loss: 0.6623 - accuracy: 0.6630 - val_loss: 0.6445 - val_accuracy: 0.5547\n",
            "Epoch 3/100\n",
            "8/8 [==============================] - 20s 3s/step - loss: 0.6176 - accuracy: 0.6997 - val_loss: 0.6250 - val_accuracy: 0.5781\n",
            "Epoch 4/100\n",
            "8/8 [==============================] - 18s 2s/step - loss: 0.5982 - accuracy: 0.6930 - val_loss: 0.7277 - val_accuracy: 0.5000\n",
            "Epoch 5/100\n",
            "8/8 [==============================] - 20s 3s/step - loss: 0.5530 - accuracy: 0.7139 - val_loss: 0.5573 - val_accuracy: 0.6914\n",
            "Epoch 6/100\n",
            "8/8 [==============================] - 18s 2s/step - loss: 0.5525 - accuracy: 0.7197 - val_loss: 0.8286 - val_accuracy: 0.5078\n",
            "Epoch 7/100\n",
            "8/8 [==============================] - 18s 2s/step - loss: 0.4882 - accuracy: 0.7720 - val_loss: 0.6042 - val_accuracy: 0.6211\n",
            "Epoch 8/100\n",
            "8/8 [==============================] - 18s 2s/step - loss: 0.4907 - accuracy: 0.7709 - val_loss: 0.9693 - val_accuracy: 0.5195\n",
            "Epoch 9/100\n",
            "8/8 [==============================] - 20s 3s/step - loss: 0.5036 - accuracy: 0.7627 - val_loss: 0.9792 - val_accuracy: 0.5312\n",
            "Epoch 10/100\n",
            "8/8 [==============================] - 18s 2s/step - loss: 0.4796 - accuracy: 0.7764 - val_loss: 0.8348 - val_accuracy: 0.5859\n",
            "Epoch 11/100\n",
            "8/8 [==============================] - 18s 2s/step - loss: 0.4319 - accuracy: 0.8053 - val_loss: 1.2195 - val_accuracy: 0.5312\n",
            "Epoch 12/100\n",
            "8/8 [==============================] - 20s 3s/step - loss: 0.4498 - accuracy: 0.7871 - val_loss: 1.4547 - val_accuracy: 0.5234\n",
            "Epoch 13/100\n",
            "8/8 [==============================] - 18s 2s/step - loss: 0.4385 - accuracy: 0.8076 - val_loss: 0.5919 - val_accuracy: 0.7383\n",
            "Epoch 14/100\n",
            "8/8 [==============================] - 18s 2s/step - loss: 0.4480 - accuracy: 0.7953 - val_loss: 1.2027 - val_accuracy: 0.5625\n",
            "Epoch 15/100\n",
            "8/8 [==============================] - 18s 2s/step - loss: 0.4380 - accuracy: 0.8053 - val_loss: 0.9392 - val_accuracy: 0.5859\n",
            "Epoch 16/100\n",
            "8/8 [==============================] - 21s 3s/step - loss: 0.4402 - accuracy: 0.7909 - val_loss: 1.2916 - val_accuracy: 0.5508\n",
            "Epoch 17/100\n",
            "8/8 [==============================] - 18s 2s/step - loss: 0.4066 - accuracy: 0.8242 - val_loss: 1.5275 - val_accuracy: 0.5430\n",
            "Epoch 18/100\n",
            "8/8 [==============================] - 18s 2s/step - loss: 0.4004 - accuracy: 0.8198 - val_loss: 1.6815 - val_accuracy: 0.5430\n",
            "Epoch 19/100\n",
            "8/8 [==============================] - 20s 3s/step - loss: 0.4248 - accuracy: 0.7920 - val_loss: 1.4863 - val_accuracy: 0.5508\n",
            "Epoch 20/100\n",
            "8/8 [==============================] - 18s 2s/step - loss: 0.4202 - accuracy: 0.7964 - val_loss: 1.5331 - val_accuracy: 0.5469\n",
            "Epoch 21/100\n",
            "8/8 [==============================] - 18s 2s/step - loss: 0.3637 - accuracy: 0.8521 - val_loss: 1.4318 - val_accuracy: 0.5742\n",
            "Epoch 22/100\n",
            "8/8 [==============================] - 18s 2s/step - loss: 0.3617 - accuracy: 0.8587 - val_loss: 1.1813 - val_accuracy: 0.6094\n",
            "Epoch 23/100\n",
            "8/8 [==============================] - 18s 2s/step - loss: 0.3663 - accuracy: 0.8376 - val_loss: 1.3095 - val_accuracy: 0.6211\n",
            "Epoch 24/100\n",
            "8/8 [==============================] - 20s 3s/step - loss: 0.3334 - accuracy: 0.8516 - val_loss: 1.6741 - val_accuracy: 0.5742\n",
            "Epoch 25/100\n",
            "8/8 [==============================] - 18s 2s/step - loss: 0.3786 - accuracy: 0.8287 - val_loss: 1.3695 - val_accuracy: 0.5938\n",
            "Epoch 26/100\n",
            "8/8 [==============================] - 18s 2s/step - loss: 0.3656 - accuracy: 0.8331 - val_loss: 1.2331 - val_accuracy: 0.5977\n",
            "Epoch 27/100\n",
            "8/8 [==============================] - 18s 2s/step - loss: 0.3286 - accuracy: 0.8576 - val_loss: 1.4476 - val_accuracy: 0.5781\n",
            "Epoch 28/100\n",
            "8/8 [==============================] - 18s 2s/step - loss: 0.3731 - accuracy: 0.8354 - val_loss: 1.4365 - val_accuracy: 0.5781\n",
            "Epoch 29/100\n",
            "8/8 [==============================] - 18s 2s/step - loss: 0.3908 - accuracy: 0.8354 - val_loss: 1.6462 - val_accuracy: 0.5586\n",
            "Epoch 30/100\n",
            "8/8 [==============================] - 18s 2s/step - loss: 0.3267 - accuracy: 0.8565 - val_loss: 1.5940 - val_accuracy: 0.5703\n",
            "Epoch 31/100\n",
            "8/8 [==============================] - 18s 2s/step - loss: 0.3195 - accuracy: 0.8465 - val_loss: 1.7053 - val_accuracy: 0.5742\n",
            "Epoch 32/100\n",
            "8/8 [==============================] - 21s 3s/step - loss: 0.3196 - accuracy: 0.8565 - val_loss: 1.4814 - val_accuracy: 0.5898\n",
            "Epoch 33/100\n",
            "8/8 [==============================] - 18s 2s/step - loss: 0.2811 - accuracy: 0.8687 - val_loss: 2.4288 - val_accuracy: 0.5234\n",
            "Epoch 34/100\n",
            "8/8 [==============================] - 19s 2s/step - loss: 0.3485 - accuracy: 0.8320 - val_loss: 1.6750 - val_accuracy: 0.5859\n",
            "Epoch 35/100\n",
            "8/8 [==============================] - 19s 2s/step - loss: 0.3096 - accuracy: 0.8543 - val_loss: 1.9026 - val_accuracy: 0.5703\n",
            "Epoch 36/100\n",
            "8/8 [==============================] - 19s 2s/step - loss: 0.2895 - accuracy: 0.8810 - val_loss: 2.2179 - val_accuracy: 0.5547\n",
            "Epoch 37/100\n",
            "8/8 [==============================] - 21s 3s/step - loss: 0.3361 - accuracy: 0.8587 - val_loss: 1.6473 - val_accuracy: 0.5859\n",
            "Epoch 38/100\n",
            "8/8 [==============================] - 18s 2s/step - loss: 0.2474 - accuracy: 0.8954 - val_loss: 2.1281 - val_accuracy: 0.5508\n",
            "Epoch 39/100\n",
            "8/8 [==============================] - 21s 3s/step - loss: 0.2802 - accuracy: 0.8721 - val_loss: 1.9368 - val_accuracy: 0.5859\n",
            "Epoch 40/100\n",
            "8/8 [==============================] - 18s 2s/step - loss: 0.3220 - accuracy: 0.8654 - val_loss: 1.6882 - val_accuracy: 0.5898\n",
            "Epoch 41/100\n",
            "8/8 [==============================] - 18s 2s/step - loss: 0.2427 - accuracy: 0.9121 - val_loss: 0.7511 - val_accuracy: 0.7773\n",
            "Epoch 42/100\n",
            "8/8 [==============================] - 20s 3s/step - loss: 0.3596 - accuracy: 0.8662 - val_loss: 2.1289 - val_accuracy: 0.5703\n",
            "Epoch 43/100\n",
            "8/8 [==============================] - 18s 2s/step - loss: 0.3277 - accuracy: 0.8576 - val_loss: 1.5207 - val_accuracy: 0.5898\n",
            "Epoch 44/100\n",
            "8/8 [==============================] - 19s 2s/step - loss: 0.2410 - accuracy: 0.9121 - val_loss: 1.5760 - val_accuracy: 0.6250\n",
            "Epoch 45/100\n",
            "8/8 [==============================] - 18s 2s/step - loss: 0.2475 - accuracy: 0.8943 - val_loss: 1.5961 - val_accuracy: 0.6289\n",
            "Epoch 46/100\n",
            "8/8 [==============================] - 18s 2s/step - loss: 0.2536 - accuracy: 0.8899 - val_loss: 2.5008 - val_accuracy: 0.5586\n",
            "Epoch 47/100\n",
            "8/8 [==============================] - 18s 2s/step - loss: 0.2880 - accuracy: 0.8754 - val_loss: 2.2273 - val_accuracy: 0.5664\n",
            "Epoch 48/100\n",
            "8/8 [==============================] - 21s 3s/step - loss: 0.2702 - accuracy: 0.8828 - val_loss: 1.9354 - val_accuracy: 0.5781\n",
            "Epoch 49/100\n",
            "8/8 [==============================] - 18s 2s/step - loss: 0.2020 - accuracy: 0.9277 - val_loss: 2.5518 - val_accuracy: 0.5625\n",
            "Epoch 50/100\n",
            "8/8 [==============================] - 18s 2s/step - loss: 0.3277 - accuracy: 0.8543 - val_loss: 1.9216 - val_accuracy: 0.5859\n",
            "Epoch 51/100\n",
            "8/8 [==============================] - 18s 2s/step - loss: 0.1907 - accuracy: 0.9299 - val_loss: 2.2314 - val_accuracy: 0.5703\n",
            "Epoch 52/100\n",
            "8/8 [==============================] - 18s 2s/step - loss: 0.2605 - accuracy: 0.8910 - val_loss: 2.0020 - val_accuracy: 0.5859\n",
            "Epoch 53/100\n",
            "8/8 [==============================] - 19s 2s/step - loss: 0.1987 - accuracy: 0.9221 - val_loss: 2.2944 - val_accuracy: 0.6016\n",
            "Epoch 54/100\n",
            "8/8 [==============================] - 19s 2s/step - loss: 0.2528 - accuracy: 0.8977 - val_loss: 1.9343 - val_accuracy: 0.6172\n",
            "Epoch 55/100\n",
            "8/8 [==============================] - 18s 2s/step - loss: 0.2084 - accuracy: 0.9199 - val_loss: 1.5424 - val_accuracy: 0.6719\n",
            "Epoch 56/100\n",
            "8/8 [==============================] - 18s 2s/step - loss: 0.2654 - accuracy: 0.8832 - val_loss: 2.1403 - val_accuracy: 0.5898\n",
            "Epoch 57/100\n",
            "8/8 [==============================] - 19s 2s/step - loss: 0.2154 - accuracy: 0.9121 - val_loss: 3.1662 - val_accuracy: 0.5156\n",
            "Epoch 58/100\n",
            "8/8 [==============================] - 19s 2s/step - loss: 0.2418 - accuracy: 0.8977 - val_loss: 1.3306 - val_accuracy: 0.6758\n",
            "Epoch 59/100\n",
            "8/8 [==============================] - 18s 2s/step - loss: 0.1950 - accuracy: 0.9199 - val_loss: 2.8449 - val_accuracy: 0.5547\n",
            "Epoch 60/100\n",
            "8/8 [==============================] - 18s 2s/step - loss: 0.3422 - accuracy: 0.8865 - val_loss: 2.4810 - val_accuracy: 0.5625\n",
            "Epoch 61/100\n",
            "8/8 [==============================] - 19s 2s/step - loss: 0.2212 - accuracy: 0.9099 - val_loss: 1.9495 - val_accuracy: 0.6250\n",
            "Epoch 62/100\n",
            "8/8 [==============================] - 21s 3s/step - loss: 0.1815 - accuracy: 0.9268 - val_loss: 1.2786 - val_accuracy: 0.6836\n",
            "Epoch 63/100\n",
            "8/8 [==============================] - 18s 2s/step - loss: 0.2164 - accuracy: 0.9121 - val_loss: 1.6471 - val_accuracy: 0.6484\n",
            "Epoch 64/100\n",
            "8/8 [==============================] - 21s 3s/step - loss: 0.1769 - accuracy: 0.9326 - val_loss: 2.2983 - val_accuracy: 0.6055\n",
            "Epoch 65/100\n",
            "8/8 [==============================] - 18s 2s/step - loss: 0.1769 - accuracy: 0.9366 - val_loss: 2.1583 - val_accuracy: 0.6016\n",
            "Epoch 66/100\n",
            "8/8 [==============================] - 18s 2s/step - loss: 0.1855 - accuracy: 0.9277 - val_loss: 3.5689 - val_accuracy: 0.5156\n",
            "Epoch 67/100\n",
            "8/8 [==============================] - 21s 3s/step - loss: 0.1873 - accuracy: 0.9277 - val_loss: 1.8925 - val_accuracy: 0.6211\n",
            "Epoch 68/100\n",
            "8/8 [==============================] - 19s 2s/step - loss: 0.1804 - accuracy: 0.9266 - val_loss: 3.0210 - val_accuracy: 0.5430\n",
            "Epoch 69/100\n",
            "8/8 [==============================] - 19s 2s/step - loss: 0.1598 - accuracy: 0.9366 - val_loss: 3.6304 - val_accuracy: 0.5312\n",
            "Epoch 70/100\n",
            "8/8 [==============================] - 19s 2s/step - loss: 0.2045 - accuracy: 0.9177 - val_loss: 2.3766 - val_accuracy: 0.6055\n",
            "Epoch 71/100\n",
            "8/8 [==============================] - 19s 2s/step - loss: 0.2095 - accuracy: 0.9088 - val_loss: 1.7406 - val_accuracy: 0.6367\n",
            "Epoch 72/100\n",
            "8/8 [==============================] - 19s 2s/step - loss: 0.1485 - accuracy: 0.9488 - val_loss: 2.6608 - val_accuracy: 0.5938\n",
            "Epoch 73/100\n",
            "8/8 [==============================] - 22s 3s/step - loss: 0.1754 - accuracy: 0.9333 - val_loss: 2.1998 - val_accuracy: 0.6289\n",
            "Epoch 74/100\n",
            "8/8 [==============================] - 19s 2s/step - loss: 0.1831 - accuracy: 0.9244 - val_loss: 3.1790 - val_accuracy: 0.5430\n",
            "Epoch 75/100\n",
            "8/8 [==============================] - 19s 2s/step - loss: 0.1874 - accuracy: 0.9232 - val_loss: 4.1868 - val_accuracy: 0.5156\n",
            "Epoch 76/100\n",
            "8/8 [==============================] - 22s 3s/step - loss: 0.1429 - accuracy: 0.9499 - val_loss: 2.9672 - val_accuracy: 0.5820\n",
            "Epoch 77/100\n",
            "8/8 [==============================] - 19s 2s/step - loss: 0.1577 - accuracy: 0.9355 - val_loss: 2.5547 - val_accuracy: 0.6133\n",
            "Epoch 78/100\n",
            "8/8 [==============================] - 19s 2s/step - loss: 0.1500 - accuracy: 0.9488 - val_loss: 2.9663 - val_accuracy: 0.5742\n",
            "Epoch 79/100\n",
            "8/8 [==============================] - 19s 2s/step - loss: 0.2008 - accuracy: 0.9210 - val_loss: 1.8997 - val_accuracy: 0.6367\n",
            "Epoch 80/100\n",
            "8/8 [==============================] - 19s 2s/step - loss: 0.1429 - accuracy: 0.9422 - val_loss: 2.9638 - val_accuracy: 0.5859\n",
            "Epoch 81/100\n",
            "8/8 [==============================] - 19s 2s/step - loss: 0.1504 - accuracy: 0.9433 - val_loss: 3.5202 - val_accuracy: 0.5508\n",
            "Epoch 82/100\n",
            "8/8 [==============================] - 21s 3s/step - loss: 0.1718 - accuracy: 0.9326 - val_loss: 3.5695 - val_accuracy: 0.5352\n",
            "Epoch 83/100\n",
            "8/8 [==============================] - 19s 2s/step - loss: 0.1472 - accuracy: 0.9455 - val_loss: 2.3163 - val_accuracy: 0.6211\n",
            "Epoch 84/100\n",
            "8/8 [==============================] - 19s 2s/step - loss: 0.1309 - accuracy: 0.9533 - val_loss: 1.9291 - val_accuracy: 0.6797\n",
            "Epoch 85/100\n",
            "8/8 [==============================] - 19s 2s/step - loss: 0.2023 - accuracy: 0.9188 - val_loss: 3.0972 - val_accuracy: 0.5781\n",
            "Epoch 86/100\n",
            "8/8 [==============================] - 19s 2s/step - loss: 0.2115 - accuracy: 0.9177 - val_loss: 3.0291 - val_accuracy: 0.5820\n",
            "Epoch 87/100\n",
            "8/8 [==============================] - 19s 2s/step - loss: 0.1029 - accuracy: 0.9722 - val_loss: 5.2755 - val_accuracy: 0.5078\n",
            "Epoch 88/100\n",
            "8/8 [==============================] - 19s 2s/step - loss: 0.2004 - accuracy: 0.9155 - val_loss: 3.0143 - val_accuracy: 0.5859\n",
            "Epoch 89/100\n",
            "8/8 [==============================] - 19s 2s/step - loss: 0.1224 - accuracy: 0.9555 - val_loss: 3.4609 - val_accuracy: 0.5547\n",
            "Epoch 90/100\n",
            "8/8 [==============================] - 19s 2s/step - loss: 0.1378 - accuracy: 0.9488 - val_loss: 1.6563 - val_accuracy: 0.7031\n",
            "Epoch 91/100\n",
            "8/8 [==============================] - 19s 2s/step - loss: 0.2638 - accuracy: 0.8910 - val_loss: 2.4655 - val_accuracy: 0.6133\n",
            "Epoch 92/100\n",
            "8/8 [==============================] - 22s 3s/step - loss: 0.1373 - accuracy: 0.9455 - val_loss: 2.5129 - val_accuracy: 0.6172\n",
            "Epoch 93/100\n",
            "8/8 [==============================] - 21s 3s/step - loss: 0.1074 - accuracy: 0.9600 - val_loss: 2.6781 - val_accuracy: 0.6250\n",
            "Epoch 94/100\n",
            "8/8 [==============================] - 19s 2s/step - loss: 0.1305 - accuracy: 0.9522 - val_loss: 1.2507 - val_accuracy: 0.7539\n",
            "Epoch 95/100\n",
            "8/8 [==============================] - 18s 2s/step - loss: 0.2802 - accuracy: 0.9021 - val_loss: 3.2275 - val_accuracy: 0.5820\n",
            "Epoch 96/100\n",
            "8/8 [==============================] - 18s 2s/step - loss: 0.0941 - accuracy: 0.9744 - val_loss: 2.6618 - val_accuracy: 0.6133\n",
            "Epoch 97/100\n",
            "8/8 [==============================] - 21s 3s/step - loss: 0.1056 - accuracy: 0.9633 - val_loss: 4.1205 - val_accuracy: 0.5312\n",
            "Epoch 98/100\n",
            "8/8 [==============================] - 18s 2s/step - loss: 0.1466 - accuracy: 0.9433 - val_loss: 2.7415 - val_accuracy: 0.6055\n",
            "Epoch 99/100\n",
            "8/8 [==============================] - 18s 2s/step - loss: 0.0928 - accuracy: 0.9689 - val_loss: 3.4341 - val_accuracy: 0.5703\n",
            "Epoch 100/100\n",
            "8/8 [==============================] - 18s 2s/step - loss: 0.1548 - accuracy: 0.9355 - val_loss: 4.5341 - val_accuracy: 0.5352\n"
          ],
          "name": "stdout"
        }
      ]
    },
    {
      "cell_type": "code",
      "metadata": {
        "colab_type": "code",
        "id": "7zNPRWOVJdOH",
        "colab": {
          "base_uri": "https://localhost:8080/",
          "height": 545
        },
        "outputId": "7d3138f0-a89b-488f-8f0f-a7a75e3a4336"
      },
      "source": [
        "import matplotlib.pyplot as plt\n",
        "acc = history.history['accuracy']\n",
        "val_acc = history.history['val_accuracy']\n",
        "loss = history.history['loss']\n",
        "val_loss = history.history['val_loss']\n",
        "\n",
        "epochs = range(len(acc))\n",
        "\n",
        "plt.plot(epochs, acc, 'r', label='Training accuracy')\n",
        "plt.plot(epochs, val_acc, 'b', label='Validation accuracy')\n",
        "plt.title('Training and validation accuracy')\n",
        "\n",
        "plt.figure()\n",
        "\n",
        "plt.plot(epochs, loss, 'r', label='Training Loss')\n",
        "plt.plot(epochs, val_loss, 'b', label='Validation Loss')\n",
        "plt.title('Training and validation loss')\n",
        "plt.legend()\n",
        "\n",
        "plt.show()"
      ],
      "execution_count": 8,
      "outputs": [
        {
          "output_type": "display_data",
          "data": {
            "image/png": "[encoded data removed]",
            "text/plain": [
              "<Figure size 432x288 with 1 Axes>"
            ]
          },
          "metadata": {
            "tags": [],
            "needs_background": "light"
          }
        },
        {
          "output_type": "display_data",
          "data": {
            "image/png": "[encoded data removed]",
            "text/plain": [
              "<Figure size 432x288 with 1 Axes>"
            ]
          },
          "metadata": {
            "tags": [],
            "needs_background": "light"
          }
        }
      ]
    }
  ]
}